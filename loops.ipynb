{
 "cells": [
  {
   "cell_type": "markdown",
   "metadata": {},
   "source": [
    "# Data Type Conversions:\n",
    "\n",
    "- int ---> float\n",
    "- float ---> int\n",
    "- int or float ---> string\n",
    "- we cannot convert a string datatype into integer or float."
   ]
  },
  {
   "cell_type": "code",
   "execution_count": null,
   "metadata": {},
   "outputs": [],
   "source": [
    "a,b=10,20.3\n",
    "print(type(a))\n",
    "print(type(b))"
   ]
  },
  {
   "cell_type": "markdown",
   "metadata": {},
   "source": [
    "# Conditional Statements:"
   ]
  },
  {
   "cell_type": "code",
   "execution_count": null,
   "metadata": {},
   "outputs": [],
   "source": [
    "a = 10\n",
    "b = 8\n",
    "a<b"
   ]
  },
  {
   "cell_type": "code",
   "execution_count": null,
   "metadata": {},
   "outputs": [],
   "source": [
    "a = 10\n",
    "b = 8\n",
    "if a<b:\n",
    "    print(True)  \n",
    "else:\n",
    "    print(False)"
   ]
  },
  {
   "cell_type": "markdown",
   "metadata": {},
   "source": [
    "- true & false starts with a capital letter.\n",
    "- No need to place in double quotes as they are keywords."
   ]
  },
  {
   "cell_type": "code",
   "execution_count": null,
   "metadata": {},
   "outputs": [],
   "source": [
    "# given number is Even or Odd\n",
    "a=int(input(\"Enter a number: \"))\n",
    "if a%2==0:\n",
    "    print(\"Even\")\n",
    "else:\n",
    "    print(\"Odd\")"
   ]
  },
  {
   "cell_type": "markdown",
   "metadata": {},
   "source": [
    "- if we didnot give \"int\", \"input\" takes the number as string."
   ]
  },
  {
   "cell_type": "code",
   "execution_count": null,
   "metadata": {},
   "outputs": [],
   "source": [
    "# which number is the largest\n",
    "a = int(input())\n",
    "b = int(input())\n",
    "c = int(input())\n",
    "if a>b and a>c:\n",
    "    print(a, \"is largest\")\n",
    "elif b>a and b>c:\n",
    "    print(b, \"is largest\")\n",
    "else:\n",
    "    print(c, \"is largest\")\n",
    "    "
   ]
  },
  {
   "cell_type": "code",
   "execution_count": null,
   "metadata": {},
   "outputs": [],
   "source": [
    "# leap year or not\n",
    "a=int(input(\"enter a year\"))\n",
    "if(a%100!=0 and a%4==0 ) or a%400==0:\n",
    "    print(True)\n",
    "else:\n",
    "    print(False)"
   ]
  },
  {
   "cell_type": "markdown",
   "metadata": {},
   "source": [
    "# Loops:\n",
    "- for loop syntax:\n",
    "    - for i in range(inti, ter, incr)\n",
    "        - inti - initiation\n",
    "        - ter - termination\n",
    "        - incr - increment"
   ]
  },
  {
   "cell_type": "code",
   "execution_count": null,
   "metadata": {},
   "outputs": [],
   "source": [
    "# A number divisible by 9 but not by 11\n",
    "i=int(input(\"enter a number\"))\n",
    "if i%9==0 and i%11!=0:\n",
    "    print(\"divisor\")\n",
    "else:\n",
    "    print(\"not a divisor\")"
   ]
  },
  {
   "cell_type": "code",
   "execution_count": null,
   "metadata": {},
   "outputs": [],
   "source": [
    "# print all natural numbers till range given\n",
    "for i in range(10):\n",
    "    print(i) #excludes last number.\n",
    "             #it takes the initial number as 0 by default if the starting range is not given."
   ]
  },
  {
   "cell_type": "code",
   "execution_count": null,
   "metadata": {},
   "outputs": [],
   "source": [
    "#print Even numbers using \"for loop\"\n",
    "for i in range(0, 15, 2):  # prints even numbers from 0 to 15\n",
    "    print(i)"
   ]
  },
  {
   "cell_type": "code",
   "execution_count": null,
   "metadata": {},
   "outputs": [],
   "source": [
    "# Print Odd numbers using \"for loop\"\n",
    "for i in range(1, 15, 2):\n",
    "    print(i)"
   ]
  },
  {
   "cell_type": "code",
   "execution_count": 1,
   "metadata": {},
   "outputs": [
    {
     "name": "stdout",
     "output_type": "stream",
     "text": [
      "enter lower bound number2010\n",
      "enter upper bound number2020\n",
      "2011\n",
      "2013\n",
      "2015\n",
      "2017\n",
      "2019\n"
     ]
    }
   ],
   "source": [
    "#Print Odd numbers in a given range using \"bounfdaries\"\n",
    "lb=int(input(\"enter lower bound number\"))\n",
    "ub=int(input(\"enter upper bound number\"))\n",
    "for i in range(lb, ub+1):\n",
    "    if i%2==1:\n",
    "        print(i)"
   ]
  },
  {
   "cell_type": "code",
   "execution_count": 6,
   "metadata": {},
   "outputs": [
    {
     "name": "stdout",
     "output_type": "stream",
     "text": [
      "enter upper bound number2020\n",
      "1972\n",
      "1976\n",
      "1980\n",
      "1984\n",
      "1988\n",
      "1992\n",
      "1996\n",
      "2000\n",
      "2004\n",
      "2008\n",
      "2012\n",
      "2016\n",
      "2020\n"
     ]
    }
   ],
   "source": [
    "# Last 50 Leap Years in a specified boundary\n",
    "\n",
    "#lb=int(input(\"enter lower bound number\"))\n",
    "ub=int(input(\"enter upper bound number\"))\n",
    "#for i in range(lb, ub-1):     \n",
    "for i in range(ub-50, ub+1):\n",
    "    if(i%4==0 and 1%100!=0) or i%400==0:\n",
    "        print(i)"
   ]
  },
  {
   "cell_type": "code",
   "execution_count": 8,
   "metadata": {},
   "outputs": [
    {
     "name": "stdout",
     "output_type": "stream",
     "text": [
      "enter any year2020\n",
      "1972\n",
      "1976\n",
      "1980\n",
      "1984\n",
      "1988\n",
      "1992\n",
      "1996\n",
      "2000\n",
      "2004\n",
      "2008\n",
      "2012\n",
      "2016\n",
      "2020\n"
     ]
    }
   ],
   "source": [
    "# print all leap years in a given range\n",
    "y=int(input(\"enter any year\"))\n",
    "x=y-50\n",
    "for year in range(x, y+1):\n",
    "    if (year%4==0 and year%100!=0) or year%400==0:\n",
    "        print(year)"
   ]
  },
  {
   "cell_type": "code",
   "execution_count": null,
   "metadata": {},
   "outputs": [],
   "source": []
  }
 ],
 "metadata": {
  "kernelspec": {
   "display_name": "Python 3",
   "language": "python",
   "name": "python3"
  },
  "language_info": {
   "codemirror_mode": {
    "name": "ipython",
    "version": 3
   },
   "file_extension": ".py",
   "mimetype": "text/x-python",
   "name": "python",
   "nbconvert_exporter": "python",
   "pygments_lexer": "ipython3",
   "version": "3.7.3"
  }
 },
 "nbformat": 4,
 "nbformat_minor": 2
}
