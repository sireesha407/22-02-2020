{
 "cells": [
  {
   "cell_type": "markdown",
   "metadata": {},
   "source": [
    "# Functions"
   ]
  },
  {
   "cell_type": "code",
   "execution_count": null,
   "metadata": {},
   "outputs": [],
   "source": [
    "# It's a group of instructions\n",
    "# a^2+b^2+2*a*b = (a+b)**2"
   ]
  },
  {
   "cell_type": "code",
   "execution_count": null,
   "metadata": {},
   "outputs": [],
   "source": [
    "def square(a,b):\n",
    "    s=(a**2+b**2+2*a*b)\n",
    "    return s"
   ]
  },
  {
   "cell_type": "code",
   "execution_count": null,
   "metadata": {},
   "outputs": [],
   "source": [
    "square(2,3)"
   ]
  },
  {
   "cell_type": "code",
   "execution_count": null,
   "metadata": {},
   "outputs": [],
   "source": [
    "# divisors of 9 - 1,3,9\n",
    "# printing sum of factors\n",
    "def sumfact(n)\n",
    "    i=1\n",
    "    summ=0\n",
    "    for i in range"
   ]
  },
  {
   "cell_type": "code",
   "execution_count": null,
   "metadata": {},
   "outputs": [],
   "source": [
    "# function for prime number\n",
    "def prime(n):\n",
    "    "
   ]
  },
  {
   "cell_type": "code",
   "execution_count": null,
   "metadata": {},
   "outputs": [],
   "source": [
    "# take a number from user and print the sum of its prime factors\n",
    "n=int(input())\n",
    "prsum=0\n",
    "for i in range"
   ]
  },
  {
   "cell_type": "markdown",
   "metadata": {},
   "source": [
    "- print all the leap years in a given range\n",
    "- print number of leap years in a given range\n",
    "- print all even factors for a given number\n",
    "- print all the prime numbers in a given range\n",
    "- print number of prime factors in a given range"
   ]
  },
  {
   "cell_type": "code",
   "execution_count": null,
   "metadata": {},
   "outputs": [],
   "source": [
    "# print all the leap years in a given range\n",
    "for i in range(2010,2020,1):\n",
    "    if (i%4==0 and i%100!=0) or (i%400==0):\n",
    "        print(i)"
   ]
  },
  {
   "cell_type": "code",
   "execution_count": null,
   "metadata": {},
   "outputs": [],
   "source": [
    "# print number of leap years in a given range\n",
    "ub=int(input(\"upper boundary number\"))\n",
    "lb=int(input(\"lower boundary number\"))\n",
    "count=0\n",
    "for i in range(lb, ub+1):\n",
    "    if (i%400==0) or (i%4==0 and i%100!=0):\n",
    "         count=count+1\n",
    "print(count)\n",
    "       "
   ]
  },
  {
   "cell_type": "code",
   "execution_count": null,
   "metadata": {},
   "outputs": [],
   "source": [
    "def leap(n):\n",
    "    if ((n%400==0) or (n%4==0 and n%100!=0)):\n",
    "        return True\n",
    "    return False\n",
    "leap(2000)"
   ]
  },
  {
   "cell_type": "code",
   "execution_count": null,
   "metadata": {},
   "outputs": [],
   "source": []
  },
  {
   "cell_type": "code",
   "execution_count": null,
   "metadata": {},
   "outputs": [],
   "source": [
    "def even(n)\n",
    "    if(n%2==0):\n",
    "        return True\n",
    "    return False\n",
    "even(6)"
   ]
  },
  {
   "cell_type": "code",
   "execution_count": null,
   "metadata": {},
   "outputs": [],
   "source": [
    "# print even factors of a given number\n",
    "n=int(input(\"enter a number\"))"
   ]
  },
  {
   "cell_type": "code",
   "execution_count": null,
   "metadata": {},
   "outputs": [],
   "source": [
    "ub=int(input(\"upper boundary number\"))\n",
    "lb=int(input(\"lower boundary number\"))\n",
    "for i in range(lb, ub+1):\n",
    "    if(prime(i))\n",
    "        print(i)"
   ]
  },
  {
   "cell_type": "code",
   "execution_count": null,
   "metadata": {},
   "outputs": [],
   "source": [
    "# print prime factors for a given number\n",
    "n=int(input())\n",
    "for i in range(1, n+1):\n",
    "    if(n%i==0):\n",
    "        if(prime(i)):\n",
    "            print(i)"
   ]
  },
  {
   "cell_type": "markdown",
   "metadata": {},
   "source": [
    "# Armstrong number"
   ]
  },
  {
   "cell_type": "code",
   "execution_count": null,
   "metadata": {},
   "outputs": [],
   "source": [
    "def armstrong(n):\n",
    "    sn=str(n)\n",
    "    arm=0\n",
    "    for i in sn:\n",
    "        arm=arm+(int(i)**3)\n",
    "    if(arm==n):\n",
    "        return True\n",
    "    return False"
   ]
  },
  {
   "cell_type": "code",
   "execution_count": null,
   "metadata": {},
   "outputs": [],
   "source": [
    "armstrong(371)"
   ]
  },
  {
   "cell_type": "code",
   "execution_count": null,
   "metadata": {},
   "outputs": [],
   "source": [
    "ub=int(input(\"enter upper boundary\"))\n",
    "lb=int(input(\"enter lower boundary\"))\n",
    "arm=0 \n",
    "for i in range(1,1000,1):\n",
    "    arm=arm+(int(i)**3)\n",
    "if arm==n:\n",
    "    print(n)\n",
    "    "
   ]
  },
  {
   "cell_type": "markdown",
   "metadata": {},
   "source": [
    "- Total surface area of a pyramid\n",
    "- square\n",
    "- rectangular\n",
    "- triangular\n",
    "- Area of square + 4*(area of triangle)\n",
    "- Area of a rectangle(l,b) + 4*(area of triangle(h, length of side))\n",
    "- Area of triangle *4"
   ]
  },
  {
   "cell_type": "code",
   "execution_count": null,
   "metadata": {},
   "outputs": [],
   "source": [
    "n=int(input(\"enter type of pyramid: 1-square pyramid 2-rectangular 3-triangular\"))\n",
    "if (n==1):\n",
    "    square()\n",
    "if (n==2):\n",
    "    rectangular()\n",
    "if (n==3):\n",
    "    triangular()"
   ]
  },
  {
   "cell_type": "code",
   "execution_count": null,
   "metadata": {},
   "outputs": [],
   "source": [
    "def square():\n",
    "    side=int(input(\"enter length of square\"))\n",
    "    height int(input(\"enter height of pyramid\"))\n",
    "    print(\"total surface area:\", (side**2+4*(0.5*height*side)))"
   ]
  },
  {
   "cell_type": "code",
   "execution_count": null,
   "metadata": {},
   "outputs": [],
   "source": [
    "def rectangular():\n",
    "    length=int(input(\"length of rectangle\"))\n",
    "    breadth=int(input(\"breadth of rectangle\"))\n",
    "    height=int(input(\"height of the pyramid\"))\n",
    "    side=int(input(\"side of triangle\"))\n",
    "    print(\"total surface area:\", ((length*breadth)+4*(0.5*height*side)))"
   ]
  },
  {
   "cell_type": "code",
   "execution_count": null,
   "metadata": {},
   "outputs": [],
   "source": [
    "def triangular():\n",
    "    side=int(input(\"enter side of triangle\"))\n",
    "    print(\"total surface area\", (4*(0.5*(side)**2)))"
   ]
  },
  {
   "cell_type": "code",
   "execution_count": 2,
   "metadata": {},
   "outputs": [
    {
     "name": "stdout",
     "output_type": "stream",
     "text": [
      "enter upper boundary20\n",
      "enter lower boundary1\n",
      "8\n",
      "64\n",
      "216\n",
      "512\n",
      "1000\n"
     ]
    }
   ],
   "source": [
    "# function to find the average of cubes of all the even numbers in a range(lb, ub) inclusive\n",
    "ub=int(input(\"enter upper boundary\"))\n",
    "lb=int(input(\"enter lower boundary\"))\n",
    "avg=0\n",
    "for i in range(1,11,1):\n",
    "    if i%2==0:\n",
    "        cube=i**3\n",
    "        print(cube)\n",
    "        "
   ]
  },
  {
   "cell_type": "code",
   "execution_count": null,
   "metadata": {},
   "outputs": [],
   "source": []
  },
  {
   "cell_type": "code",
   "execution_count": null,
   "metadata": {},
   "outputs": [],
   "source": []
  }
 ],
 "metadata": {
  "kernelspec": {
   "display_name": "Python 3",
   "language": "python",
   "name": "python3"
  },
  "language_info": {
   "codemirror_mode": {
    "name": "ipython",
    "version": 3
   },
   "file_extension": ".py",
   "mimetype": "text/x-python",
   "name": "python",
   "nbconvert_exporter": "python",
   "pygments_lexer": "ipython3",
   "version": "3.7.3"
  }
 },
 "nbformat": 4,
 "nbformat_minor": 2
}
