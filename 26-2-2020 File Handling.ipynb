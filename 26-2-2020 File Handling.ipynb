{
 "cells": [
  {
   "cell_type": "markdown",
   "metadata": {},
   "source": [
    "## File Handling"
   ]
  },
  {
   "cell_type": "markdown",
   "metadata": {},
   "source": [
    "open(filename,mode)"
   ]
  },
  {
   "cell_type": "code",
   "execution_count": 126,
   "metadata": {},
   "outputs": [
    {
     "data": {
      "text/plain": [
       "'Aditya College of Engineering & Technology\\nAPSSDC\\nPython Programming'"
      ]
     },
     "execution_count": 126,
     "metadata": {},
     "output_type": "execute_result"
    }
   ],
   "source": [
    "# Without close()\n",
    "f = open(\"Data Files/Data.txt\")\n",
    "data = f.read()\n",
    "data"
   ]
  },
  {
   "cell_type": "code",
   "execution_count": 127,
   "metadata": {},
   "outputs": [
    {
     "name": "stdout",
     "output_type": "stream",
     "text": [
      "Aditya College of Engineering & Technology\n",
      "APSSDC\n",
      "Python Programming\n"
     ]
    }
   ],
   "source": [
    "# with close()\n",
    "f = open(\"Data Files/Data.txt\")\n",
    "data = f.read()                            # open data files folder --> data.txt\n",
    "print(data)\n",
    "f.close()"
   ]
  },
  {
   "cell_type": "code",
   "execution_count": 128,
   "metadata": {},
   "outputs": [
    {
     "name": "stdout",
     "output_type": "stream",
     "text": [
      "Aditya College of Engineering & Technology\n",
      "APSSDC\n",
      "Python Programming\n"
     ]
    }
   ],
   "source": [
    "with open(\"Data Files/Data.txt\", \"r\") as f: # r --> read mode \n",
    "    data = f.read()                         # open data files folder --> data.txt\n",
    "    print(data)"
   ]
  },
  {
   "cell_type": "code",
   "execution_count": 129,
   "metadata": {},
   "outputs": [],
   "source": [
    "with open(\"Data Files/Data1.txt\",\"w\") as f:    # w --> write mode\n",
    "    f.write(\"This is my second file.\")         # open data files folder --> data1.txt"
   ]
  },
  {
   "cell_type": "code",
   "execution_count": 130,
   "metadata": {},
   "outputs": [],
   "source": [
    "with open(\"Data Files/Data1.txt\",\"a\") as f:\n",
    "    f.write(\"\\nChecking difference.\")         # a = append\n",
    "                                              # open data files folder --> data1.txt"
   ]
  },
  {
   "cell_type": "code",
   "execution_count": 131,
   "metadata": {},
   "outputs": [
    {
     "name": "stdout",
     "output_type": "stream",
     "text": [
      "45\n"
     ]
    }
   ],
   "source": [
    "with open(\"Data Files/Data1.txt\",\"r\") as f:\n",
    "    f.read()\n",
    "    print(f.tell())      # f.tell() is to tell the position of the curser"
   ]
  },
  {
   "cell_type": "code",
   "execution_count": 132,
   "metadata": {},
   "outputs": [
    {
     "name": "stdout",
     "output_type": "stream",
     "text": [
      "45\n",
      "23\n",
      "23\n"
     ]
    }
   ],
   "source": [
    "with open(\"Data Files/Data1.txt\",\"r\") as f:\n",
    "    f.read()\n",
    "    print(f.tell())      # f.tell() is to tell the position of the curser\n",
    "    print(f.seek(23))     # f.seek() is to change the curser position\n",
    "    print(f.tell())\n",
    "   "
   ]
  },
  {
   "cell_type": "code",
   "execution_count": 133,
   "metadata": {},
   "outputs": [
    {
     "name": "stdout",
     "output_type": "stream",
     "text": [
      "5\n"
     ]
    }
   ],
   "source": [
    "with open(\"Data Files/Data1.txt\",\"w\") as f:\n",
    "    f.write(\"Hello\")\n",
    "    print(f.tell())"
   ]
  },
  {
   "cell_type": "code",
   "execution_count": 134,
   "metadata": {},
   "outputs": [],
   "source": [
    "with open(\"Data Files/Data1.txt\",\"a\") as f:\n",
    "    f.write(\"\\nHow are you dear?\")     "
   ]
  },
  {
   "cell_type": "code",
   "execution_count": 138,
   "metadata": {},
   "outputs": [
    {
     "name": "stdout",
     "output_type": "stream",
     "text": [
      "24\n",
      "6\n",
      "\n",
      "How are you dear?\n"
     ]
    }
   ],
   "source": [
    "with open(\"Data Files/Data1.txt\",\"r\") as f:\n",
    "    f.read()\n",
    "    print(f.tell())      # f.tell() is to tell the position of the curser\n",
    "    print(f.seek(6))     # f.seek() is to change the curser position\n",
    "    #print(f.tell())\n",
    "    print(f.read(18))"
   ]
  },
  {
   "cell_type": "code",
   "execution_count": 139,
   "metadata": {},
   "outputs": [
    {
     "data": {
      "text/plain": [
       "['pyth', 'n@pr', 'gram@w', 'rksh', 'p']"
      ]
     },
     "execution_count": 139,
     "metadata": {},
     "output_type": "execute_result"
    }
   ],
   "source": [
    "\"python@program@workshop\".split('o')"
   ]
  },
  {
   "cell_type": "code",
   "execution_count": 140,
   "metadata": {},
   "outputs": [
    {
     "data": {
      "text/plain": [
       "[' pyth', 'n@pr', 'gram@w', 'rksh', 'p ']"
      ]
     },
     "execution_count": 140,
     "metadata": {},
     "output_type": "execute_result"
    }
   ],
   "source": [
    "\" python@program@workshop \".split('o')"
   ]
  },
  {
   "cell_type": "code",
   "execution_count": 141,
   "metadata": {},
   "outputs": [
    {
     "data": {
      "text/plain": [
       "['', 'pyth', 'n@pr', 'gram@w', 'rksh', 'p', '']"
      ]
     },
     "execution_count": 141,
     "metadata": {},
     "output_type": "execute_result"
    }
   ],
   "source": [
    "\"opython@program@workshopo\".split('o')"
   ]
  },
  {
   "cell_type": "code",
   "execution_count": 142,
   "metadata": {},
   "outputs": [
    {
     "data": {
      "text/plain": [
       "['python', 'program', 'workshop']"
      ]
     },
     "execution_count": 142,
     "metadata": {},
     "output_type": "execute_result"
    }
   ],
   "source": [
    "\"python@program@workshop\".split('@')"
   ]
  },
  {
   "cell_type": "code",
   "execution_count": 143,
   "metadata": {},
   "outputs": [
    {
     "data": {
      "text/plain": [
       "['', 'python', 'program', 'workshop', '']"
      ]
     },
     "execution_count": 143,
     "metadata": {},
     "output_type": "execute_result"
    }
   ],
   "source": [
    "\"@python@program@workshop@\".split('@')"
   ]
  },
  {
   "cell_type": "code",
   "execution_count": 144,
   "metadata": {},
   "outputs": [
    {
     "name": "stdout",
     "output_type": "stream",
     "text": [
      "['Aditya College of Engineering & Technology\\n', 'APSSDC\\n', 'Python Programming']\n"
     ]
    }
   ],
   "source": [
    "with open(\"Data Files/Data.txt\",\"r\") as f:\n",
    "    #data = f.read()        # reads all line words\n",
    "    #data =  f.readline()    # reads only one linE\n",
    "    data = f.readlines()      # reads all lines\n",
    "    print(data)"
   ]
  },
  {
   "cell_type": "code",
   "execution_count": 172,
   "metadata": {},
   "outputs": [
    {
     "name": "stdout",
     "output_type": "stream",
     "text": [
      "Aditya College of Engineering & Technology\n",
      "\n",
      "APSSDC\n",
      "\n",
      "Python Programming\n"
     ]
    }
   ],
   "source": [
    "with open(\"Data Files/Data.txt\",\"r\") as f:\n",
    "    data = f.readlines()\n",
    "    for i in data:\n",
    "        print(i)"
   ]
  },
  {
   "cell_type": "code",
   "execution_count": 173,
   "metadata": {},
   "outputs": [
    {
     "name": "stdout",
     "output_type": "stream",
     "text": [
      "['Aditya College of Engineering & Technology\\n', 'APSSDC\\n', 'Python Programming']\n"
     ]
    }
   ],
   "source": [
    "# write a python program to read a file line by line and store it in a list.\n",
    "li=[]\n",
    "with open(\"Data Files/Data.txt\",\"r\") as f:\n",
    "    for i in f:\n",
    "        li.append(i)\n",
    "print(li)"
   ]
  },
  {
   "cell_type": "markdown",
   "metadata": {},
   "source": [
    "\n",
    "## File Data Processing"
   ]
  },
  {
   "cell_type": "code",
   "execution_count": null,
   "metadata": {},
   "outputs": [],
   "source": [
    "def FileToList(filename):\n",
    "    with open(filename,\"r\") as f:\n",
    "        filedata = f.read()\n",
    "        lines =  filedata.split()"
   ]
  },
  {
   "cell_type": "code",
   "execution_count": 171,
   "metadata": {},
   "outputs": [
    {
     "data": {
      "text/plain": [
       "3"
      ]
     },
     "execution_count": 171,
     "metadata": {},
     "output_type": "execute_result"
    }
   ],
   "source": [
    "# Counting the number of lines in a text file\n",
    "def linecount(filename):\n",
    "    count = 0\n",
    "    with open(filename,\"r\") as f:\n",
    "        for i in f:\n",
    "            count+=1\n",
    "    return count\n",
    "linecount(\"Data Files/Data.txt\")         "
   ]
  },
  {
   "cell_type": "markdown",
   "metadata": {},
   "source": [
    "- Words count\n",
    "- Characters count\n",
    "- Unique word count"
   ]
  },
  {
   "cell_type": "code",
   "execution_count": 194,
   "metadata": {},
   "outputs": [
    {
     "name": "stdout",
     "output_type": "stream",
     "text": [
      "3\n",
      "9\n",
      "68\n"
     ]
    }
   ],
   "source": [
    "# Count of words, characters & lines in a file\n",
    "lines = 0\n",
    "words = 0\n",
    "characters = 0\n",
    "with open(\"Data Files/Data.txt\",\"r\") as f:\n",
    "    for line in f:\n",
    "        wordslist = line.split()\n",
    "        lines = lines + 1\n",
    "        words = words + len(wordslist)\n",
    "        characters = characters + len(line)\n",
    "print(lines)\n",
    "print(words)\n",
    "print(characters)\n"
   ]
  },
  {
   "cell_type": "code",
   "execution_count": null,
   "metadata": {},
   "outputs": [],
   "source": [
    "# kth largest number in a list using functions.\n",
    "# print the element with kth highest frequency in a list.\n",
    "# print the third smallest frequency element in a list."
   ]
  },
  {
   "cell_type": "code",
   "execution_count": null,
   "metadata": {},
   "outputs": [],
   "source": []
  }
 ],
 "metadata": {
  "kernelspec": {
   "display_name": "Python 3",
   "language": "python",
   "name": "python3"
  },
  "language_info": {
   "codemirror_mode": {
    "name": "ipython",
    "version": 3
   },
   "file_extension": ".py",
   "mimetype": "text/x-python",
   "name": "python",
   "nbconvert_exporter": "python",
   "pygments_lexer": "ipython3",
   "version": "3.7.3"
  }
 },
 "nbformat": 4,
 "nbformat_minor": 2
}
